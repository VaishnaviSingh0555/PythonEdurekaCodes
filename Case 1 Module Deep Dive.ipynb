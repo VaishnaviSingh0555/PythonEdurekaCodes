{
 "cells": [
  {
   "cell_type": "code",
   "execution_count": null,
   "metadata": {},
   "outputs": [],
   "source": [
    "pos = {\n",
    "    \"x\": 0, \n",
    "    \"y\": 0\n",
    "}\n",
    "\n",
    "while True:\n",
    "\n",
    "    line = input(\"> \")\n",
    "    if not line:\n",
    "        break\n",
    "\n",
    "    direction, steps = line.split()\n",
    "    if direction == \"UP\":\n",
    "        pos[\"y\"] += int(steps)\n",
    "    elif direction == \"DOWN\":\n",
    "        pos[\"y\"] -= int(steps)\n",
    "    elif direction == \"LEFT\":\n",
    "        pos[\"x\"] -= int(steps)\n",
    "    elif direction == \"RIGHT\":\n",
    "        pos[\"x\"] += int(steps)\n",
    "\n",
    "print (int(round((pos[\"x\"]**2 + pos[\"y\"]**2)**0.5)))"
   ]
  },
  {
   "cell_type": "markdown",
   "metadata": {},
   "source": [
    " #Data of XYZ company is stored in sorted list. Write a program for searching specific data from that list. \n",
    " "
   ]
  },
  {
   "cell_type": "code",
   "execution_count": null,
   "metadata": {},
   "outputs": [],
   "source": [
    "def selectionSort(aList):\n",
    "    for i in range(len(aList)):\n",
    "        least = i\n",
    "        for k in range(i+1, len(aList)):\n",
    "            if aList[k] < aList[least]:\n",
    "                least = k\n",
    "                 \n",
    "    swap(aList, least, i)\n",
    "         \n",
    "def swap(A, x, y):\n",
    "    temp = A[x]\n",
    "    A[x] = A[y]\n",
    "    A[y] = temp\n",
    "    \n"
   ]
  },
  {
   "cell_type": "code",
   "execution_count": null,
   "metadata": {},
   "outputs": [],
   "source": [
    "my_list = [5.76,4.7,25.3,4.6,32.4,55.3,52.3,7.6,7.3,86.7,43.5]\n",
    "selectionSort(my_list)\n",
    "print (my_list)"
   ]
  },
  {
   "cell_type": "code",
   "execution_count": 1,
   "metadata": {},
   "outputs": [
    {
     "name": "stdout",
     "output_type": "stream",
     "text": [
      "It is day-time\n"
     ]
    }
   ],
   "source": [
    "import time\n",
    "mytime = time.localtime()\n",
    "if mytime.tm_hour < 6 or mytime.tm_hour > 18:\n",
    "    print ('It is night-time')\n",
    "else:\n",
    "    print ('It is day-time')"
   ]
  },
  {
   "cell_type": "code",
   "execution_count": 2,
   "metadata": {},
   "outputs": [
    {
     "name": "stdout",
     "output_type": "stream",
     "text": [
      "Input coordinates of two points\n",
      "Starting Latitude :23.5\n",
      "Ending Longitude :63.7\n",
      "Starting Latitude :42.7\n",
      "Ending Longitude :76.5\n",
      "The distance is 2438.73km.\n"
     ]
    }
   ],
   "source": [
    "from math import radians, sin , cos, acos\n",
    "\n",
    "print(\"Input coordinates of two points\")\n",
    "slat = radians(float(input(\"Starting Latitude :\")))\n",
    "slon = radians(float(input(\"Ending Longitude :\")))\n",
    "elat = radians(float(input(\"Starting Latitude :\")))\n",
    "elon = radians(float(input(\"Ending Longitude :\")))\n",
    "\n",
    "dist = 6371.01 * acos(sin(slat)*sin(elat) + cos(slat)*cos(elat)*cos(slon - elon))\n",
    "print(\"The distance is %.2fkm.\" % dist)"
   ]
  },
  {
   "cell_type": "code",
   "execution_count": 13,
   "metadata": {},
   "outputs": [],
   "source": [
    "class BankAccount():\n",
    "    \n",
    "    def __init__(self):\n",
    "        self.balance=0\n",
    "        print(\"Hello welcome to Deposit and Withdrawal \")\n",
    "        \n",
    "    def Deposit(self):\n",
    "        amount=float(input(\"Amount to be Depsoited :\"))\n",
    "        self.balance+=amount\n",
    "        print(\"Amount Deposited \\n\", amount)\n",
    "        \n",
    "    def Withdrawal(self):\n",
    "        amount=float(input(\"Amount to be withdrawal :\"))\n",
    "        if self.balance>=amount:\n",
    "            self.balance-=amount\n",
    "            print(\"You Withdrew \\n\", amount)\n",
    "        else:\n",
    "            print(\"Insufficient balance :\")\n",
    "            \n",
    "    def display(self):\n",
    "        print(\"Net available balance \\n\", self.balance)\n",
    "        \n",
    "\n",
    "        "
   ]
  },
  {
   "cell_type": "code",
   "execution_count": null,
   "metadata": {},
   "outputs": [
    {
     "name": "stdout",
     "output_type": "stream",
     "text": [
      "Hello welcome to Deposit and Withdrawal \n"
     ]
    }
   ],
   "source": [
    "s=BankAccount()\n",
    "s.Deposit() \n",
    "s.Withdraw() \n",
    "s.display() \n"
   ]
  },
  {
   "cell_type": "code",
   "execution_count": 9,
   "metadata": {},
   "outputs": [
    {
     "name": "stdout",
     "output_type": "stream",
     "text": [
      "Hello!!! Welcome to the Deposit & Withdrawal Machine\n",
      "Enter amount to be Deposited: 1200\n",
      "\n",
      " Amount Deposited: 1200.0\n",
      "Enter amount to be Withdrawn: 120\n",
      "\n",
      " You Withdrew: 120.0\n",
      "\n",
      " Net Available Balance= 1080.0\n"
     ]
    }
   ],
   "source": [
    "class Bank_Account: \n",
    "    def __init__(self): \n",
    "        self.balance=0\n",
    "        print(\"Hello!!! Welcome to the Deposit & Withdrawal Machine\") \n",
    "  \n",
    "    def deposit(self): \n",
    "        amount=float(input(\"Enter amount to be Deposited: \")) \n",
    "        self.balance += amount \n",
    "        print(\"\\n Amount Deposited:\",amount) \n",
    "  \n",
    "    def withdraw(self): \n",
    "        amount = float(input(\"Enter amount to be Withdrawn: \")) \n",
    "        if self.balance>=amount: \n",
    "            self.balance-=amount \n",
    "            print(\"\\n You Withdrew:\", amount) \n",
    "        else: \n",
    "            print(\"\\n Insufficient balance  \") \n",
    "  \n",
    "    def display(self): \n",
    "        print(\"\\n Net Available Balance=\",self.balance) \n",
    "  \n",
    "# Driver code \n",
    "   \n",
    "# creating an object of class \n",
    "s = Bank_Account() \n",
    "   \n",
    "# Calling functions with that class object \n",
    "s.deposit() \n",
    "s.withdraw() \n",
    "s.display() "
   ]
  },
  {
   "cell_type": "code",
   "execution_count": null,
   "metadata": {},
   "outputs": [],
   "source": [
    "\n",
    "\n"
   ]
  },
  {
   "cell_type": "code",
   "execution_count": null,
   "metadata": {},
   "outputs": [],
   "source": []
  },
  {
   "cell_type": "code",
   "execution_count": null,
   "metadata": {},
   "outputs": [],
   "source": []
  }
 ],
 "metadata": {
  "kernelspec": {
   "display_name": "Python 3",
   "language": "python",
   "name": "python3"
  },
  "language_info": {
   "codemirror_mode": {
    "name": "ipython",
    "version": 3
   },
   "file_extension": ".py",
   "mimetype": "text/x-python",
   "name": "python",
   "nbconvert_exporter": "python",
   "pygments_lexer": "ipython3",
   "version": "3.7.4"
  }
 },
 "nbformat": 4,
 "nbformat_minor": 2
}
