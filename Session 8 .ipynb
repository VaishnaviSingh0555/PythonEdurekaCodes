{
 "cells": [
  {
   "cell_type": "code",
   "execution_count": 1,
   "metadata": {},
   "outputs": [],
   "source": [
    "Interest=lambda p,r,t:round((p*r*t//100,2))\n"
   ]
  },
  {
   "cell_type": "code",
   "execution_count": null,
   "metadata": {},
   "outputs": [],
   "source": [
    "#Class name : Numbers \n",
    "\n",
    "#Constructor : num  \n",
    "\n",
    "#Functions: \n",
    "    #IsPallindrome  : True or Flase (boolean)\n",
    "    \n",
    "    #IsEven : True or False (boolean) \n",
    "    \n",
    "    #IsPrime : True or False (boolean)\n",
    "\n",
    "    "
   ]
  },
  {
   "cell_type": "code",
   "execution_count": 2,
   "metadata": {},
   "outputs": [],
   "source": [
    "num=1234567890\n",
    "class Numbers:\n",
    "    def __init__(self,n):\n",
    "        self.num=n\n",
    "     \n",
    "    def IsPallindrome(self):\n",
    "        if str(self.num)==str(self.num)[::-1]:\n",
    "            return True\n",
    "        return False\n",
    "    \n",
    "    def isEven(self):\n",
    "        if self.num%2==0:\n",
    "            return True \n",
    "        return False\n",
    "    \n",
    "    def IsPrime(self):\n",
    "        counter=0\n",
    "        for each in range(2,self.num):\n",
    "            if self.num%each==0:\n",
    "                counter+=1\n",
    "        if counter==0:\n",
    "            return True\n",
    "        return False\n",
    "        "
   ]
  },
  {
   "cell_type": "code",
   "execution_count": 5,
   "metadata": {},
   "outputs": [],
   "source": [
    "n1=Numbers(11)"
   ]
  },
  {
   "cell_type": "code",
   "execution_count": 6,
   "metadata": {},
   "outputs": [
    {
     "data": {
      "text/plain": [
       "False"
      ]
     },
     "execution_count": 6,
     "metadata": {},
     "output_type": "execute_result"
    }
   ],
   "source": [
    "n1.isEven()"
   ]
  },
  {
   "cell_type": "code",
   "execution_count": 11,
   "metadata": {},
   "outputs": [
    {
     "name": "stdout",
     "output_type": "stream",
     "text": [
      "False\n",
      "True\n",
      "True\n"
     ]
    }
   ],
   "source": [
    "print (n1.isEven() )\n",
    "print (n1.IsPallindrome())\n",
    "print (n1.IsPrime())"
   ]
  },
  {
   "cell_type": "code",
   "execution_count": 9,
   "metadata": {},
   "outputs": [
    {
     "data": {
      "text/plain": [
       "True"
      ]
     },
     "execution_count": 9,
     "metadata": {},
     "output_type": "execute_result"
    }
   ],
   "source": [
    "n1.IsPrime()"
   ]
  },
  {
   "cell_type": "code",
   "execution_count": 13,
   "metadata": {},
   "outputs": [
    {
     "name": "stdout",
     "output_type": "stream",
     "text": [
      "False\n",
      "True\n",
      "True\n"
     ]
    }
   ],
   "source": [
    "class Number:\n",
    "    \n",
    "    def __init__(self, num):\n",
    "        self.num = num\n",
    "\n",
    "    def isPalindrome(self):\n",
    "        return True if str(self.num)==str(self.num)[::-1] else False\n",
    "\n",
    "    def isEven(self):\n",
    "        return True if self.num%2==0 else False\n",
    "\n",
    "    def isPrime(self):\n",
    "        count = 0\n",
    "        for each in range(2, self.num):\n",
    "          count+= 1 if self.num%each==0 else 0\n",
    "        return True if count==0 else False\n",
    "\n",
    "n1 = Number(11)\n",
    "print(n1.isEven())\n",
    "print(n1.isPrime())\n",
    "\n",
    "\n",
    "print(n1.isPalindrome())"
   ]
  },
  {
   "cell_type": "code",
   "execution_count": 14,
   "metadata": {},
   "outputs": [
    {
     "name": "stdout",
     "output_type": "stream",
     "text": [
      "Enter a number :35\n"
     ]
    }
   ],
   "source": [
    "n=int(input(\"Enter a number :\"))"
   ]
  },
  {
   "cell_type": "code",
   "execution_count": 18,
   "metadata": {},
   "outputs": [],
   "source": [
    "n1=Numbers(n)"
   ]
  },
  {
   "cell_type": "code",
   "execution_count": 16,
   "metadata": {},
   "outputs": [
    {
     "data": {
      "text/plain": [
       "False"
      ]
     },
     "execution_count": 16,
     "metadata": {},
     "output_type": "execute_result"
    }
   ],
   "source": [
    "n1.isEven()"
   ]
  },
  {
   "cell_type": "code",
   "execution_count": null,
   "metadata": {},
   "outputs": [],
   "source": [
    "#Alt vertical selection "
   ]
  },
  {
   "cell_type": "code",
   "execution_count": null,
   "metadata": {},
   "outputs": [],
   "source": []
  },
  {
   "cell_type": "code",
   "execution_count": null,
   "metadata": {},
   "outputs": [],
   "source": [
    "#Principles of OOP\n",
    "\n",
    "    #Abstraction\n",
    "    #encapsulation\n",
    "    #Inheritence\n",
    "    #OVerriding\n",
    "    #Polymorphism\n",
    "\n",
    "\n",
    "#Access Spicifiers\n",
    "\n",
    "\n",
    "#System Libraries : os ,sys  , datetime , random , math \n",
    "\n",
    "#Regular expression \n",
    "\n",
    "#Excpetion handling \n"
   ]
  },
  {
   "cell_type": "code",
   "execution_count": null,
   "metadata": {},
   "outputs": [],
   "source": [
    "#Abstraction : hiding the background details  eg=object \n",
    "#encapsulation : it means binding variables and function in a single unit eg: class "
   ]
  },
  {
   "cell_type": "code",
   "execution_count": 24,
   "metadata": {},
   "outputs": [],
   "source": [
    "#inheritence : one or more class extending properties of another classes \n",
    "\n",
    "\n",
    "#Single \n",
    "#multiple\n",
    "#multilevel\n",
    "\n",
    "#base parent super class : who gives the property\n",
    "#derived child sub class : who gets the property"
   ]
  },
  {
   "cell_type": "code",
   "execution_count": 19,
   "metadata": {},
   "outputs": [],
   "source": [
    "class A():\n",
    "    def PrintA(self):\n",
    "        print (\"I am from class A\")\n",
    "        \n",
    "        \n",
    "class B():\n",
    "    def PrintB(self):\n",
    "        print (\"I am from class B\")"
   ]
  },
  {
   "cell_type": "code",
   "execution_count": 20,
   "metadata": {},
   "outputs": [],
   "source": [
    "a=A()"
   ]
  },
  {
   "cell_type": "code",
   "execution_count": 21,
   "metadata": {},
   "outputs": [
    {
     "name": "stdout",
     "output_type": "stream",
     "text": [
      "I am from class A\n"
     ]
    }
   ],
   "source": [
    "a.PrintA()"
   ]
  },
  {
   "cell_type": "code",
   "execution_count": 22,
   "metadata": {},
   "outputs": [],
   "source": [
    "b=B()"
   ]
  },
  {
   "cell_type": "code",
   "execution_count": 23,
   "metadata": {},
   "outputs": [
    {
     "name": "stdout",
     "output_type": "stream",
     "text": [
      "I am from class B\n"
     ]
    }
   ],
   "source": [
    "b.PrintB()"
   ]
  },
  {
   "cell_type": "code",
   "execution_count": 25,
   "metadata": {},
   "outputs": [],
   "source": [
    "#Single Inheritence\n",
    "\n",
    "class A():\n",
    "    def PrintA(self):\n",
    "        print (\"I am from class A\")\n",
    "        \n",
    "        \n",
    "class B(A):\n",
    "    def PrintB(self):\n",
    "        print (\"I am from class B\")"
   ]
  },
  {
   "cell_type": "code",
   "execution_count": 26,
   "metadata": {},
   "outputs": [],
   "source": [
    "b=B()"
   ]
  },
  {
   "cell_type": "code",
   "execution_count": 27,
   "metadata": {},
   "outputs": [
    {
     "name": "stdout",
     "output_type": "stream",
     "text": [
      "I am from class A\n"
     ]
    }
   ],
   "source": [
    "b.PrintA()"
   ]
  },
  {
   "cell_type": "code",
   "execution_count": 28,
   "metadata": {},
   "outputs": [
    {
     "name": "stdout",
     "output_type": "stream",
     "text": [
      "I am from class B\n"
     ]
    }
   ],
   "source": [
    "b.PrintB()"
   ]
  },
  {
   "cell_type": "code",
   "execution_count": 29,
   "metadata": {},
   "outputs": [],
   "source": [
    "#multiple\n",
    "class A():\n",
    "    def PrintA(self):\n",
    "        print (\"I am from class A\")\n",
    "        \n",
    "        \n",
    "class B():\n",
    "    def PrintB(self):\n",
    "        print (\"I am from class B\")\n",
    "        \n",
    "class C():\n",
    "    def PrintC(self):\n",
    "        print (\"I am from class C\")\n",
    "        \n",
    "    \n",
    "class D(A,B,C):\n",
    "    def PrintD(self):\n",
    "        print (\"I am from class D\")\n",
    "        \n",
    "    "
   ]
  },
  {
   "cell_type": "code",
   "execution_count": 30,
   "metadata": {},
   "outputs": [],
   "source": [
    "d=D()"
   ]
  },
  {
   "cell_type": "code",
   "execution_count": 31,
   "metadata": {},
   "outputs": [
    {
     "name": "stdout",
     "output_type": "stream",
     "text": [
      "I am from class A\n"
     ]
    }
   ],
   "source": [
    "d.PrintA()"
   ]
  },
  {
   "cell_type": "code",
   "execution_count": 32,
   "metadata": {},
   "outputs": [
    {
     "name": "stdout",
     "output_type": "stream",
     "text": [
      "I am from class B\n"
     ]
    }
   ],
   "source": [
    "d.PrintB()"
   ]
  },
  {
   "cell_type": "code",
   "execution_count": 33,
   "metadata": {},
   "outputs": [
    {
     "name": "stdout",
     "output_type": "stream",
     "text": [
      "I am from class C\n"
     ]
    }
   ],
   "source": [
    "d.PrintC()"
   ]
  },
  {
   "cell_type": "code",
   "execution_count": 34,
   "metadata": {},
   "outputs": [
    {
     "name": "stdout",
     "output_type": "stream",
     "text": [
      "I am from class D\n"
     ]
    }
   ],
   "source": [
    "d.PrintD()"
   ]
  },
  {
   "cell_type": "code",
   "execution_count": 35,
   "metadata": {},
   "outputs": [],
   "source": [
    "#Multilevel\n",
    "class A():\n",
    "    def PrintA(self):\n",
    "        print (\"I am from class A\")\n",
    "        \n",
    "        \n",
    "class B(A):\n",
    "    def PrintB(self):\n",
    "        print (\"I am from class B\")\n",
    "        \n",
    "class C(B):\n",
    "    def PrintC(self):\n",
    "        print (\"I am from class C\")\n",
    "        "
   ]
  },
  {
   "cell_type": "code",
   "execution_count": 36,
   "metadata": {},
   "outputs": [],
   "source": [
    "c=C()"
   ]
  },
  {
   "cell_type": "code",
   "execution_count": 37,
   "metadata": {},
   "outputs": [
    {
     "name": "stdout",
     "output_type": "stream",
     "text": [
      "I am from class A\n"
     ]
    }
   ],
   "source": [
    "c.PrintA()"
   ]
  },
  {
   "cell_type": "code",
   "execution_count": 38,
   "metadata": {},
   "outputs": [
    {
     "name": "stdout",
     "output_type": "stream",
     "text": [
      "I am from class B\n"
     ]
    }
   ],
   "source": [
    "c.PrintB()"
   ]
  },
  {
   "cell_type": "code",
   "execution_count": 39,
   "metadata": {},
   "outputs": [
    {
     "name": "stdout",
     "output_type": "stream",
     "text": [
      "I am from class C\n"
     ]
    }
   ],
   "source": [
    "c.PrintC()"
   ]
  },
  {
   "cell_type": "code",
   "execution_count": 47,
   "metadata": {},
   "outputs": [],
   "source": [
    "#Overriding \n",
    "\n",
    "class Ios10():\n",
    "    \n",
    "    def FunctionA(self,a):\n",
    "        print (\"I use method X\")\n",
    "        print (a)\n",
    "        \n",
    "    def FunctionB(self):\n",
    "        print (\"This is functionB\")\n",
    "    def FunctionC(self):\n",
    "        print (\"This is functionC\")\n",
    "        \n",
    "class Ios11(Ios10):\n",
    "    \n",
    "    def FunctionA(self,a,b):\n",
    "        print (\"I use method Y\")\n",
    "        print (a,b)"
   ]
  },
  {
   "cell_type": "code",
   "execution_count": 48,
   "metadata": {},
   "outputs": [],
   "source": [
    "version=Ios11()"
   ]
  },
  {
   "cell_type": "code",
   "execution_count": 51,
   "metadata": {},
   "outputs": [
    {
     "name": "stdout",
     "output_type": "stream",
     "text": [
      "I use method Y\n",
      "11 2\n"
     ]
    }
   ],
   "source": [
    "version.FunctionA(11,2)"
   ]
  },
  {
   "cell_type": "code",
   "execution_count": 43,
   "metadata": {},
   "outputs": [],
   "source": [
    "#Polymorphism : same thing available in many forms \n",
    "\n",
    "class Animal():\n",
    "    def Legs(self):\n",
    "        print (\"4 legs\")\n",
    "     \n",
    "    def Voice(self):\n",
    "        pass\n",
    "    \n",
    "class Dog(Animal):\n",
    "    def Voice(self):\n",
    "        print (\"Bark\")\n",
    "    \n",
    "class Cat(Animal):\n",
    "    def Voice(self):\n",
    "        print (\"Mews\")"
   ]
  },
  {
   "cell_type": "code",
   "execution_count": 44,
   "metadata": {},
   "outputs": [],
   "source": [
    "d=Dog()"
   ]
  },
  {
   "cell_type": "code",
   "execution_count": 45,
   "metadata": {},
   "outputs": [
    {
     "name": "stdout",
     "output_type": "stream",
     "text": [
      "Bark\n"
     ]
    }
   ],
   "source": [
    "d.Voice()"
   ]
  },
  {
   "cell_type": "code",
   "execution_count": 46,
   "metadata": {},
   "outputs": [
    {
     "name": "stdout",
     "output_type": "stream",
     "text": [
      "Mews\n"
     ]
    }
   ],
   "source": [
    "c=Cat()\n",
    "c.Voice()"
   ]
  },
  {
   "cell_type": "code",
   "execution_count": 52,
   "metadata": {},
   "outputs": [],
   "source": [
    "class Animal():\n",
    "    def legs(self):\n",
    "        print (\"4 Legs\")\n",
    "    \n",
    "    def Voice(self):\n",
    "         print (\"Main\")\n",
    "    \n",
    "    \n",
    "    \n",
    "class Dog(Animal):\n",
    "    \n",
    "    pass\n",
    "\n",
    "\n",
    "class Cat(Animal):\n",
    "    def Voice(self):\n",
    "        print (\"Mews\")"
   ]
  },
  {
   "cell_type": "code",
   "execution_count": 53,
   "metadata": {},
   "outputs": [],
   "source": [
    "d=Dog()"
   ]
  },
  {
   "cell_type": "code",
   "execution_count": 54,
   "metadata": {},
   "outputs": [
    {
     "name": "stdout",
     "output_type": "stream",
     "text": [
      "Main\n"
     ]
    }
   ],
   "source": [
    "d.Voice()"
   ]
  },
  {
   "cell_type": "code",
   "execution_count": 101,
   "metadata": {},
   "outputs": [],
   "source": [
    "#Access Specifiers\n",
    "\n",
    "\n",
    "#public , protected (_) , private (__)\n",
    "\n",
    "\n",
    "class Flower():  #class is a collection of variables and function \n",
    "    \n",
    "    ''' this is a class which takes order for flowers '''\n",
    "    def __init__(self,name,color,quan):\n",
    "        self.name=name\n",
    "        self._color=color  #protected\n",
    "        self.__quan=quan   #private\n",
    "    \n",
    "    #methods\n",
    "    def PrintName(self):\n",
    "        name=\"Sunflower\"\n",
    "        print(\"Name of flower is :\",self.name)\n",
    "        \n",
    "    def _PrintColor(self):  #protected \n",
    "        print(\"Color of flower is :\",self._color)\n",
    "        \n",
    "    def __PrintQuantity(self): #private\n",
    "        print(\"Quantity of flowers is :\",self.__quan)\n",
    "         \n",
    "    def PrintAlldetails(self):\n",
    "        self.PrintName()\n",
    "        self._PrintColor()\n",
    "        self.__PrintQuantity()\n",
    "            \n",
    "    "
   ]
  },
  {
   "cell_type": "code",
   "execution_count": 69,
   "metadata": {},
   "outputs": [],
   "source": [
    "f=Flower(\"Rose\",'Red',1000)"
   ]
  },
  {
   "cell_type": "code",
   "execution_count": 70,
   "metadata": {},
   "outputs": [
    {
     "name": "stdout",
     "output_type": "stream",
     "text": [
      "Name of flower is : Rose\n"
     ]
    }
   ],
   "source": [
    "f.PrintName()"
   ]
  },
  {
   "cell_type": "code",
   "execution_count": 71,
   "metadata": {},
   "outputs": [
    {
     "name": "stdout",
     "output_type": "stream",
     "text": [
      "Color of flower is : Red\n"
     ]
    }
   ],
   "source": [
    "f._PrintColor()"
   ]
  },
  {
   "cell_type": "code",
   "execution_count": 72,
   "metadata": {},
   "outputs": [
    {
     "ename": "AttributeError",
     "evalue": "'Flower' object has no attribute '__PrintQuantity'",
     "output_type": "error",
     "traceback": [
      "\u001b[0;31m---------------------------------------------------------------------------\u001b[0m",
      "\u001b[0;31mAttributeError\u001b[0m                            Traceback (most recent call last)",
      "\u001b[0;32m<ipython-input-72-39374ba5afa0>\u001b[0m in \u001b[0;36m<module>\u001b[0;34m\u001b[0m\n\u001b[0;32m----> 1\u001b[0;31m \u001b[0mf\u001b[0m\u001b[0;34m.\u001b[0m\u001b[0m__PrintQuantity\u001b[0m\u001b[0;34m(\u001b[0m\u001b[0;34m)\u001b[0m\u001b[0;34m\u001b[0m\u001b[0;34m\u001b[0m\u001b[0m\n\u001b[0m",
      "\u001b[0;31mAttributeError\u001b[0m: 'Flower' object has no attribute '__PrintQuantity'"
     ]
    }
   ],
   "source": [
    "f.__PrintQuantity() \n",
    "\n",
    "#objects,subclass cannot access something which is private"
   ]
  },
  {
   "cell_type": "code",
   "execution_count": 73,
   "metadata": {},
   "outputs": [
    {
     "data": {
      "text/plain": [
       "'Rose'"
      ]
     },
     "execution_count": 73,
     "metadata": {},
     "output_type": "execute_result"
    }
   ],
   "source": [
    "f.name"
   ]
  },
  {
   "cell_type": "code",
   "execution_count": 75,
   "metadata": {},
   "outputs": [
    {
     "data": {
      "text/plain": [
       "'Red'"
      ]
     },
     "execution_count": 75,
     "metadata": {},
     "output_type": "execute_result"
    }
   ],
   "source": [
    "f._color"
   ]
  },
  {
   "cell_type": "code",
   "execution_count": 76,
   "metadata": {},
   "outputs": [
    {
     "ename": "AttributeError",
     "evalue": "'Flower' object has no attribute '__quan'",
     "output_type": "error",
     "traceback": [
      "\u001b[0;31m---------------------------------------------------------------------------\u001b[0m",
      "\u001b[0;31mAttributeError\u001b[0m                            Traceback (most recent call last)",
      "\u001b[0;32m<ipython-input-76-5cf30bbcc56a>\u001b[0m in \u001b[0;36m<module>\u001b[0;34m\u001b[0m\n\u001b[0;32m----> 1\u001b[0;31m \u001b[0mf\u001b[0m\u001b[0;34m.\u001b[0m\u001b[0m__quan\u001b[0m\u001b[0;34m\u001b[0m\u001b[0;34m\u001b[0m\u001b[0m\n\u001b[0m",
      "\u001b[0;31mAttributeError\u001b[0m: 'Flower' object has no attribute '__quan'"
     ]
    }
   ],
   "source": [
    "f.__quan"
   ]
  },
  {
   "cell_type": "code",
   "execution_count": 77,
   "metadata": {},
   "outputs": [
    {
     "name": "stdout",
     "output_type": "stream",
     "text": [
      "Name of flower is : Rose\n",
      "Color of flower is : Red\n",
      "Quantity of flowers is : 1000\n"
     ]
    }
   ],
   "source": [
    "f.PrintAlldetails()"
   ]
  },
  {
   "cell_type": "code",
   "execution_count": null,
   "metadata": {},
   "outputs": [],
   "source": [
    "\n",
    "\n",
    "within  ## public , protected ,private \n",
    "\n",
    "objects  ## public , protected \n",
    "\n",
    "subclass ## public , protected \n",
    "\n",
    "within modules ## public ,protected\n",
    " \n",
    "different modules  ## public "
   ]
  },
  {
   "cell_type": "code",
   "execution_count": 94,
   "metadata": {},
   "outputs": [],
   "source": [
    "class A():\n",
    "    def __PrintA(self):\n",
    "        print (\"I am from class A\")\n",
    "        \n",
    "        \n",
    "class B(A):\n",
    "    def PrintB(self):\n",
    "        print (\"I am from class B\")"
   ]
  },
  {
   "cell_type": "code",
   "execution_count": 88,
   "metadata": {},
   "outputs": [],
   "source": [
    "b=B()"
   ]
  },
  {
   "cell_type": "code",
   "execution_count": 89,
   "metadata": {},
   "outputs": [
    {
     "name": "stdout",
     "output_type": "stream",
     "text": [
      "I am from class B\n"
     ]
    }
   ],
   "source": [
    "b.PrintB()"
   ]
  },
  {
   "cell_type": "code",
   "execution_count": 91,
   "metadata": {},
   "outputs": [
    {
     "ename": "AttributeError",
     "evalue": "'B' object has no attribute '__PrintA'",
     "output_type": "error",
     "traceback": [
      "\u001b[0;31m---------------------------------------------------------------------------\u001b[0m",
      "\u001b[0;31mAttributeError\u001b[0m                            Traceback (most recent call last)",
      "\u001b[0;32m<ipython-input-91-9db8aa7f75c9>\u001b[0m in \u001b[0;36m<module>\u001b[0;34m\u001b[0m\n\u001b[0;32m----> 1\u001b[0;31m \u001b[0mb\u001b[0m\u001b[0;34m.\u001b[0m\u001b[0m__PrintA\u001b[0m\u001b[0;34m(\u001b[0m\u001b[0;34m)\u001b[0m\u001b[0;34m\u001b[0m\u001b[0;34m\u001b[0m\u001b[0m\n\u001b[0m",
      "\u001b[0;31mAttributeError\u001b[0m: 'B' object has no attribute '__PrintA'"
     ]
    }
   ],
   "source": [
    "b.__PrintA()"
   ]
  },
  {
   "cell_type": "code",
   "execution_count": 93,
   "metadata": {},
   "outputs": [
    {
     "name": "stdout",
     "output_type": "stream",
     "text": [
      "I am from class A\n"
     ]
    }
   ],
   "source": [
    "b._A__PrintA()  #access the private member by writing _ followed by the class name where the function/variable resides \n",
    "\n"
   ]
  },
  {
   "cell_type": "code",
   "execution_count": 98,
   "metadata": {},
   "outputs": [
    {
     "data": {
      "text/plain": [
       "<function __main__.Flower.__init__(self, name, color, quan)>"
      ]
     },
     "execution_count": 98,
     "metadata": {},
     "output_type": "execute_result"
    }
   ],
   "source": [
    "Flower.__init__"
   ]
  },
  {
   "cell_type": "code",
   "execution_count": 99,
   "metadata": {},
   "outputs": [
    {
     "data": {
      "text/plain": [
       "'Flower'"
      ]
     },
     "execution_count": 99,
     "metadata": {},
     "output_type": "execute_result"
    }
   ],
   "source": [
    "Flower.__name__"
   ]
  },
  {
   "cell_type": "code",
   "execution_count": 100,
   "metadata": {},
   "outputs": [
    {
     "data": {
      "text/plain": [
       "mappingproxy({'__module__': '__main__',\n",
       "              '__init__': <function __main__.Flower.__init__(self, name, color, quan)>,\n",
       "              'PrintName': <function __main__.Flower.PrintName(self)>,\n",
       "              '_PrintColor': <function __main__.Flower._PrintColor(self)>,\n",
       "              '_Flower__PrintQuantity': <function __main__.Flower.__PrintQuantity(self)>,\n",
       "              'PrintAlldetails': <function __main__.Flower.PrintAlldetails(self)>,\n",
       "              '__dict__': <attribute '__dict__' of 'Flower' objects>,\n",
       "              '__weakref__': <attribute '__weakref__' of 'Flower' objects>,\n",
       "              '__doc__': None})"
      ]
     },
     "execution_count": 100,
     "metadata": {},
     "output_type": "execute_result"
    }
   ],
   "source": [
    "Flower.__dict__"
   ]
  },
  {
   "cell_type": "code",
   "execution_count": 102,
   "metadata": {},
   "outputs": [
    {
     "data": {
      "text/plain": [
       "' this is a class which takes order for flowers '"
      ]
     },
     "execution_count": 102,
     "metadata": {},
     "output_type": "execute_result"
    }
   ],
   "source": [
    "Flower.__doc__"
   ]
  },
  {
   "cell_type": "code",
   "execution_count": 103,
   "metadata": {},
   "outputs": [
    {
     "data": {
      "text/plain": [
       "'__main__'"
      ]
     },
     "execution_count": 103,
     "metadata": {},
     "output_type": "execute_result"
    }
   ],
   "source": [
    "Flower.__module__"
   ]
  },
  {
   "cell_type": "code",
   "execution_count": 104,
   "metadata": {},
   "outputs": [],
   "source": [
    "from sklearn.preprocessing import LabelEncoder"
   ]
  },
  {
   "cell_type": "code",
   "execution_count": 106,
   "metadata": {},
   "outputs": [
    {
     "data": {
      "text/plain": [
       "'sklearn.preprocessing.label'"
      ]
     },
     "execution_count": 106,
     "metadata": {},
     "output_type": "execute_result"
    }
   ],
   "source": [
    "LabelEncoder.__module__"
   ]
  },
  {
   "cell_type": "code",
   "execution_count": 109,
   "metadata": {},
   "outputs": [],
   "source": [
    "import Calci as c"
   ]
  },
  {
   "cell_type": "code",
   "execution_count": 110,
   "metadata": {},
   "outputs": [
    {
     "data": {
      "text/plain": [
       "'Calci'"
      ]
     },
     "execution_count": 110,
     "metadata": {},
     "output_type": "execute_result"
    }
   ],
   "source": [
    "c.Calculator.__module__"
   ]
  },
  {
   "cell_type": "code",
   "execution_count": 111,
   "metadata": {},
   "outputs": [
    {
     "data": {
      "text/plain": [
       "'Calculator'"
      ]
     },
     "execution_count": 111,
     "metadata": {},
     "output_type": "execute_result"
    }
   ],
   "source": [
    "c.Calculator.__name__"
   ]
  },
  {
   "cell_type": "code",
   "execution_count": 112,
   "metadata": {},
   "outputs": [],
   "source": [
    "import sys "
   ]
  },
  {
   "cell_type": "code",
   "execution_count": 113,
   "metadata": {},
   "outputs": [
    {
     "data": {
      "text/plain": [
       "['/Users/apple/anaconda3/lib/python3.7/site-packages/ipykernel_launcher.py',\n",
       " '-f',\n",
       " '/Users/apple/Library/Jupyter/runtime/kernel-1245d7e9-9ec6-42cd-b693-4592eb6d4456.json']"
      ]
     },
     "execution_count": 113,
     "metadata": {},
     "output_type": "execute_result"
    }
   ],
   "source": [
    "sys.argv"
   ]
  },
  {
   "cell_type": "code",
   "execution_count": null,
   "metadata": {},
   "outputs": [],
   "source": [
    "sys.path"
   ]
  },
  {
   "cell_type": "code",
   "execution_count": null,
   "metadata": {},
   "outputs": [],
   "source": [
    "sys.exc_info()"
   ]
  },
  {
   "cell_type": "code",
   "execution_count": 114,
   "metadata": {},
   "outputs": [],
   "source": [
    "import os"
   ]
  },
  {
   "cell_type": "code",
   "execution_count": null,
   "metadata": {},
   "outputs": [],
   "source": [
    "os.rename()\n",
    "\n",
    "os.remove()"
   ]
  },
  {
   "cell_type": "code",
   "execution_count": 115,
   "metadata": {},
   "outputs": [
    {
     "data": {
      "text/plain": [
       "'/Users/apple/Desktop/data/DS 28th Oct'"
      ]
     },
     "execution_count": 115,
     "metadata": {},
     "output_type": "execute_result"
    }
   ],
   "source": [
    "os.getcwd()"
   ]
  },
  {
   "cell_type": "code",
   "execution_count": 116,
   "metadata": {},
   "outputs": [],
   "source": [
    "os.mkdir('Greeting')"
   ]
  },
  {
   "cell_type": "code",
   "execution_count": 121,
   "metadata": {},
   "outputs": [],
   "source": [
    "new_location=os.getcwd()+'/Greeting'"
   ]
  },
  {
   "cell_type": "code",
   "execution_count": 123,
   "metadata": {},
   "outputs": [],
   "source": [
    "os.chdir(new_location)"
   ]
  },
  {
   "cell_type": "code",
   "execution_count": 124,
   "metadata": {},
   "outputs": [
    {
     "data": {
      "text/plain": [
       "'/Users/apple/Desktop/data/DS 28th Oct/Greeting'"
      ]
     },
     "execution_count": 124,
     "metadata": {},
     "output_type": "execute_result"
    }
   ],
   "source": [
    "os.getcwd()"
   ]
  },
  {
   "cell_type": "code",
   "execution_count": 125,
   "metadata": {},
   "outputs": [],
   "source": [
    "f=open(\"Welcome.txt\",'w')\n",
    "f.write(\"Welcome to edureka !! \")\n",
    "f.close()"
   ]
  },
  {
   "cell_type": "code",
   "execution_count": 126,
   "metadata": {},
   "outputs": [],
   "source": [
    "os.mkdir('Screens')"
   ]
  },
  {
   "cell_type": "code",
   "execution_count": 128,
   "metadata": {},
   "outputs": [
    {
     "data": {
      "text/plain": [
       "False"
      ]
     },
     "execution_count": 128,
     "metadata": {},
     "output_type": "execute_result"
    }
   ],
   "source": [
    "os.path.exists('/Users/apple/Desktop/data/DS 28th Oct/Greetings')"
   ]
  },
  {
   "cell_type": "code",
   "execution_count": 130,
   "metadata": {},
   "outputs": [
    {
     "data": {
      "text/plain": [
       "'/Users/apple/Desktop/data/DS 28th Oct/Greeting'"
      ]
     },
     "execution_count": 130,
     "metadata": {},
     "output_type": "execute_result"
    }
   ],
   "source": [
    "os.path.dirname('/Users/apple/Desktop/data/DS 28th Oct/Greeting/Welcome.txt')"
   ]
  },
  {
   "cell_type": "code",
   "execution_count": 136,
   "metadata": {},
   "outputs": [],
   "source": [
    "dir_name='/Users/apple/Desktop/data/DS 28th Oct/Greeting'\n",
    "filename='Intro.txt'\n",
    "path_of_file=os.path.join(dir_name,filename)"
   ]
  },
  {
   "cell_type": "code",
   "execution_count": 139,
   "metadata": {},
   "outputs": [
    {
     "data": {
      "text/plain": [
       "'/Users/apple/Desktop/data/DS 28th Oct/Greeting/Intro.txt'"
      ]
     },
     "execution_count": 139,
     "metadata": {},
     "output_type": "execute_result"
    }
   ],
   "source": [
    "dir_name+\"/\"+filename"
   ]
  },
  {
   "cell_type": "code",
   "execution_count": 138,
   "metadata": {},
   "outputs": [
    {
     "data": {
      "text/plain": [
       "'/Users/apple/Desktop/data/DS 28th Oct/Greeting/Intro.txt'"
      ]
     },
     "execution_count": 138,
     "metadata": {},
     "output_type": "execute_result"
    }
   ],
   "source": [
    "path_of_file"
   ]
  },
  {
   "cell_type": "code",
   "execution_count": 142,
   "metadata": {},
   "outputs": [
    {
     "data": {
      "text/plain": [
       "False"
      ]
     },
     "execution_count": 142,
     "metadata": {},
     "output_type": "execute_result"
    }
   ],
   "source": [
    "os.path.isdir('Screens')"
   ]
  },
  {
   "cell_type": "code",
   "execution_count": 143,
   "metadata": {},
   "outputs": [
    {
     "data": {
      "text/plain": [
       "True"
      ]
     },
     "execution_count": 143,
     "metadata": {},
     "output_type": "execute_result"
    }
   ],
   "source": [
    "os.path.isfile('Welcome.txt')"
   ]
  },
  {
   "cell_type": "code",
   "execution_count": 148,
   "metadata": {},
   "outputs": [
    {
     "name": "stdout",
     "output_type": "stream",
     "text": [
      "Enter a folder name :screen\n",
      "Folder already exists \n"
     ]
    }
   ],
   "source": [
    "#WAP to input a folder name from the user and if the folder is not existing then create the folder otherwise \n",
    "\n",
    "#Print the appropriate message \n",
    "\n",
    "folder_name=input(\"Enter a folder name :\")\n",
    "\n",
    "if os.path.isdir(folder_name):\n",
    "    print (\"Folder already exists \")\n",
    "else:\n",
    "    os.mkdir(folder_name)"
   ]
  },
  {
   "cell_type": "code",
   "execution_count": null,
   "metadata": {},
   "outputs": [],
   "source": [
    "#os.walk "
   ]
  },
  {
   "cell_type": "code",
   "execution_count": null,
   "metadata": {},
   "outputs": [],
   "source": [
    "os.path.relpath()"
   ]
  },
  {
   "cell_type": "code",
   "execution_count": null,
   "metadata": {},
   "outputs": [],
   "source": []
  },
  {
   "cell_type": "code",
   "execution_count": null,
   "metadata": {},
   "outputs": [],
   "source": []
  },
  {
   "cell_type": "code",
   "execution_count": null,
   "metadata": {},
   "outputs": [],
   "source": []
  }
 ],
 "metadata": {
  "kernelspec": {
   "display_name": "Python 3",
   "language": "python",
   "name": "python3"
  },
  "language_info": {
   "codemirror_mode": {
    "name": "ipython",
    "version": 3
   },
   "file_extension": ".py",
   "mimetype": "text/x-python",
   "name": "python",
   "nbconvert_exporter": "python",
   "pygments_lexer": "ipython3",
   "version": "3.7.4"
  }
 },
 "nbformat": 4,
 "nbformat_minor": 2
}
