{
 "cells": [
  {
   "cell_type": "code",
   "execution_count": 19,
   "metadata": {},
   "outputs": [
    {
     "name": "stdout",
     "output_type": "stream",
     "text": [
      "     age            job  marital    y\n",
      "0     20        student   single  yes\n",
      "1     32     management   single  yes\n",
      "2     49     technician  married  yes\n",
      "3     32    blue-collar  married  yes\n",
      "4     33     management  married  yes\n",
      "..   ...            ...      ...  ...\n",
      "442   26     technician   single  yes\n",
      "443   60  self-employed  married  yes\n",
      "444   42    blue-collar   single  yes\n",
      "445   32         admin.   single  yes\n",
      "446   46    blue-collar  married  yes\n",
      "\n",
      "[447 rows x 4 columns]\n"
     ]
    }
   ],
   "source": [
    "import pandas as pd\n",
    "\n",
    "DataCaptured = pd.read_csv (r'C:\\Users\\vinayak.lakeshri\\Documents\\bank-data.csv') #for an earlier version of Excel, you may need to use the file extension of 'xls'\n",
    "print (DataCaptured)\n",
    "# DataCaptured.next()\n",
    "#     for Column in DataCaptured:"
   ]
  },
  {
   "cell_type": "code",
   "execution_count": 15,
   "metadata": {},
   "outputs": [
    {
     "ename": "SyntaxError",
     "evalue": "(unicode error) 'unicodeescape' codec can't decode bytes in position 2-3: truncated \\UXXXXXXXX escape (<ipython-input-15-594a51ec900a>, line 15)",
     "output_type": "error",
     "traceback": [
      "\u001b[1;36m  File \u001b[1;32m\"<ipython-input-15-594a51ec900a>\"\u001b[1;36m, line \u001b[1;32m15\u001b[0m\n\u001b[1;33m    csvreader = csv.reader(\"C:\\Users\\vinayak.lakeshri\\Documents\\bank-data.csv\")\u001b[0m\n\u001b[1;37m                          ^\u001b[0m\n\u001b[1;31mSyntaxError\u001b[0m\u001b[1;31m:\u001b[0m (unicode error) 'unicodeescape' codec can't decode bytes in position 2-3: truncated \\UXXXXXXXX escape\n"
     ]
    }
   ],
   "source": [
    "\n"
   ]
  },
  {
   "cell_type": "code",
   "execution_count": null,
   "metadata": {},
   "outputs": [],
   "source": []
  }
 ],
 "metadata": {
  "kernelspec": {
   "display_name": "Python 3",
   "language": "python",
   "name": "python3"
  },
  "language_info": {
   "codemirror_mode": {
    "name": "ipython",
    "version": 3
   },
   "file_extension": ".py",
   "mimetype": "text/x-python",
   "name": "python",
   "nbconvert_exporter": "python",
   "pygments_lexer": "ipython3",
   "version": "3.7.4"
  }
 },
 "nbformat": 4,
 "nbformat_minor": 2
}
