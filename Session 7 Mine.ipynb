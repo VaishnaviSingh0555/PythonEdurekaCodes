{
 "cells": [
  {
   "cell_type": "code",
   "execution_count": 42,
   "metadata": {},
   "outputs": [],
   "source": [
    "class Flower():\n",
    "    \n",
    "    def PrintName(self, name):\n",
    "        print(\"The name of Flower :\", name)\n",
    "        \n",
    "    def PrintColor(self, color):\n",
    "        print(\"The color of Flower :\", color)\n",
    "        \n",
    "    def PrintQty(self, quan):\n",
    "        print(\"The qty of Flower :\", quan)\n",
    "        \n",
    "    def PrintAlldetails(self, name, color, quan):\n",
    "        self.PrintName(name)\n",
    "        self.PrintColor(color)\n",
    "        self.PrintQty(quan)"
   ]
  },
  {
   "cell_type": "code",
   "execution_count": 43,
   "metadata": {},
   "outputs": [],
   "source": [
    "fi=Flower()"
   ]
  },
  {
   "cell_type": "code",
   "execution_count": 44,
   "metadata": {},
   "outputs": [
    {
     "name": "stdout",
     "output_type": "stream",
     "text": [
      "The name of Flower : Rose\n",
      "The color of Flower : red\n",
      "The qty of Flower : 3\n"
     ]
    }
   ],
   "source": [
    "fi.PrintAlldetails(\"Rose\",\"red\",3)"
   ]
  },
  {
   "cell_type": "code",
   "execution_count": 75,
   "metadata": {},
   "outputs": [],
   "source": [
    "name=\"Anu\"\n",
    "\n",
    "def PrintColor():\n",
    "    print(\"Color is xyz\")\n",
    "\n",
    "class Flower1():\n",
    "    \n",
    "    name=\"Rose\"\n",
    "    Color=\"red\"\n",
    "    Quantity=1000\n",
    "    \n",
    "    def PrintName(self):\n",
    "        print(\"Name of Flower:\", self.name)\n",
    "        \n",
    "    def PrintColor(self):\n",
    "        print(\"Color of Flower:\", color)\n",
    "        \n",
    "    def PrintQty(self):\n",
    "        print(\"qty of Flower:\", quan)\n",
    "        \n",
    "    def PrintAlldetails(self):\n",
    "        self.PrintName()\n",
    "        PrintColor()\n",
    "        "
   ]
  },
  {
   "cell_type": "code",
   "execution_count": 76,
   "metadata": {},
   "outputs": [],
   "source": [
    "f2=Flower1()"
   ]
  },
  {
   "cell_type": "code",
   "execution_count": 77,
   "metadata": {},
   "outputs": [
    {
     "name": "stdout",
     "output_type": "stream",
     "text": [
      "Name of Flower: Rose\n"
     ]
    }
   ],
   "source": [
    "f2.PrintName()"
   ]
  },
  {
   "cell_type": "code",
   "execution_count": 78,
   "metadata": {},
   "outputs": [
    {
     "name": "stdout",
     "output_type": "stream",
     "text": [
      "Name of Flower: Rose\n",
      "Color is xyz\n"
     ]
    }
   ],
   "source": [
    "f2.PrintAlldetails()"
   ]
  },
  {
   "cell_type": "code",
   "execution_count": 84,
   "metadata": {},
   "outputs": [],
   "source": [
    "p=2000000\n",
    "r=3\n",
    "t=5\n",
    "\n",
    "class Interest():\n",
    "    p=1000\n",
    "    r=2\n",
    "    t=8\n",
    "    \n",
    "    def SI(self):\n",
    "        si=round((self.p*self.r*self.t)/100.0,2)\n",
    "        return si\n",
    "    \n",
    "    def PrintAlldetails(self):\n",
    "        print(\"Principle :\", self.p)\n",
    "        print(\"Rate :\", self.r)\n",
    "        print(\"Time :\", self.t)\n",
    "        print(\"Intrest :\", self.SI())"
   ]
  },
  {
   "cell_type": "code",
   "execution_count": 85,
   "metadata": {},
   "outputs": [],
   "source": [
    "s1=Interest()"
   ]
  },
  {
   "cell_type": "code",
   "execution_count": 86,
   "metadata": {},
   "outputs": [
    {
     "name": "stdout",
     "output_type": "stream",
     "text": [
      "Principle : 1000\n",
      "Rate : 2\n",
      "Time : 8\n",
      "Intrest : 160.0\n"
     ]
    }
   ],
   "source": [
    "s1.PrintAlldetails()"
   ]
  },
  {
   "cell_type": "code",
   "execution_count": 43,
   "metadata": {},
   "outputs": [],
   "source": [
    "p=2000000\n",
    "r=3\n",
    "t=5\n",
    "\n",
    "class Interest():\n",
    "    p=1000\n",
    "    r=2\n",
    "    t=8\n",
    "    \n",
    "    def SI(self):\n",
    "        si=round((self.p*self.r*self.t)/100.0,2)\n",
    "        return si\n",
    "\n",
    "    def PrintAlldetails(self):\n",
    "        print(\"Principle :\", self.p)\n",
    "        print(\"Rate :\", self.r)\n",
    "        print(\"Time :\", self.t)\n",
    "        print(\"Intrest :\", self.SI())\n",
    "\n"
   ]
  },
  {
   "cell_type": "code",
   "execution_count": 44,
   "metadata": {},
   "outputs": [],
   "source": [
    "f1=Interest()"
   ]
  },
  {
   "cell_type": "code",
   "execution_count": 45,
   "metadata": {},
   "outputs": [
    {
     "name": "stdout",
     "output_type": "stream",
     "text": [
      "Principle : 1000\n",
      "Rate : 2\n",
      "Time : 8\n",
      "Intrest : 160.0\n"
     ]
    }
   ],
   "source": [
    "f1.PrintAlldetails()"
   ]
  },
  {
   "cell_type": "code",
   "execution_count": 52,
   "metadata": {},
   "outputs": [],
   "source": [
    "class Interest():\n",
    "    \n",
    "    def __init__(self, principle, rate, time):\n",
    "        self.p=principle\n",
    "        self.r=rate\n",
    "        self.t=time\n",
    "        \n",
    "    def SI(self):\n",
    "        si=round((self.p*self.r*self.t)/100.0,2)\n",
    "        return si\n",
    "    \n",
    "    def PrintAlldetails(self):\n",
    "        print(\"Principle :\", self.p)\n",
    "        print(\"Rate :\", self.r)\n",
    "        print(\"Time :\", self.t)\n",
    "        print(\"Intrest :\", self.SI())\n",
    "    "
   ]
  },
  {
   "cell_type": "code",
   "execution_count": 53,
   "metadata": {},
   "outputs": [],
   "source": [
    "s2=Interest(1000,2,4)"
   ]
  },
  {
   "cell_type": "code",
   "execution_count": 54,
   "metadata": {},
   "outputs": [
    {
     "name": "stdout",
     "output_type": "stream",
     "text": [
      "Principle : 1000\n",
      "Rate : 2\n",
      "Time : 4\n",
      "Intrest : 80.0\n"
     ]
    }
   ],
   "source": [
    "s2.PrintAlldetails()"
   ]
  },
  {
   "cell_type": "code",
   "execution_count": 55,
   "metadata": {},
   "outputs": [],
   "source": [
    "class SignUp():\n",
    "    \n",
    "    def __init__(self,name,email,password):\n",
    "        self.n=name\n",
    "        self.e=email\n",
    "        self.p=password\n",
    "        \n",
    "    def StoreDetailstoDB(self):\n",
    "        print(\"Details stored to DB\")\n",
    "        pass\n",
    "    \n",
    "    "
   ]
  },
  {
   "cell_type": "code",
   "execution_count": 56,
   "metadata": {},
   "outputs": [],
   "source": [
    "user1=SignUp(\"yash\",\"abc@123\",\"123\")"
   ]
  },
  {
   "cell_type": "code",
   "execution_count": 57,
   "metadata": {},
   "outputs": [
    {
     "name": "stdout",
     "output_type": "stream",
     "text": [
      "Details stored to DB\n"
     ]
    }
   ],
   "source": [
    "user1.StoreDetailstoDB()"
   ]
  },
  {
   "cell_type": "code",
   "execution_count": null,
   "metadata": {},
   "outputs": [],
   "source": []
  }
 ],
 "metadata": {
  "kernelspec": {
   "display_name": "Python 3",
   "language": "python",
   "name": "python3"
  },
  "language_info": {
   "codemirror_mode": {
    "name": "ipython",
    "version": 3
   },
   "file_extension": ".py",
   "mimetype": "text/x-python",
   "name": "python",
   "nbconvert_exporter": "python",
   "pygments_lexer": "ipython3",
   "version": "3.7.4"
  }
 },
 "nbformat": 4,
 "nbformat_minor": 2
}
