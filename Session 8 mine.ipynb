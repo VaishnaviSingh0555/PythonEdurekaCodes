{
 "cells": [
  {
   "cell_type": "code",
   "execution_count": null,
   "metadata": {},
   "outputs": [],
   "source": [
    "class Numbers:\n",
    "    \n",
    "    def __init__(self,n):\n",
    "        self.num=n\n",
    "        \n",
    "    def isPalindrome(self):\n",
    "        if str(self.num)==str(self.num)[::-1]:\n",
    "            return True\n",
    "        return False\n",
    "    \n",
    "    def isEven(self):\n",
    "        if self.num%2==0\n",
    "            return True\n",
    "    return False\n",
    "\n",
    "\n",
    "    def isPrime(self):\n",
    "        counter=0\n",
    "        for each in range(2,self.num):\n",
    "            if self.num%each==0:\n",
    "                counter+=1\n",
    "            if counter==0:\n",
    "                return True\n",
    "            return False\n",
    "                \n",
    "        "
   ]
  }
 ],
 "metadata": {
  "kernelspec": {
   "display_name": "Python 3",
   "language": "python",
   "name": "python3"
  },
  "language_info": {
   "codemirror_mode": {
    "name": "ipython",
    "version": 3
   },
   "file_extension": ".py",
   "mimetype": "text/x-python",
   "name": "python",
   "nbconvert_exporter": "python",
   "pygments_lexer": "ipython3",
   "version": "3.7.4"
  }
 },
 "nbformat": 4,
 "nbformat_minor": 2
}
