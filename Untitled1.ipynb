{
 "cells": [
  {
   "cell_type": "code",
   "execution_count": 1,
   "metadata": {},
   "outputs": [
    {
     "name": "stdout",
     "output_type": "stream",
     "text": [
      "print(string) \n"
     ]
    }
   ],
   "source": [
    "string = str(input()) "
   ]
  },
  {
   "cell_type": "code",
   "execution_count": 2,
   "metadata": {},
   "outputs": [
    {
     "name": "stdout",
     "output_type": "stream",
     "text": [
      "ajjjj\n"
     ]
    }
   ],
   "source": [
    "string = str(input()) "
   ]
  },
  {
   "cell_type": "code",
   "execution_count": 3,
   "metadata": {},
   "outputs": [
    {
     "name": "stdout",
     "output_type": "stream",
     "text": [
      "ajjjj\n"
     ]
    }
   ],
   "source": [
    "print(string)"
   ]
  },
  {
   "cell_type": "code",
   "execution_count": 4,
   "metadata": {},
   "outputs": [
    {
     "name": "stdout",
     "output_type": "stream",
     "text": [
      "ardst\n"
     ]
    }
   ],
   "source": [
    "string = str(input()) "
   ]
  },
  {
   "cell_type": "code",
   "execution_count": 7,
   "metadata": {},
   "outputs": [
    {
     "name": "stdout",
     "output_type": "stream",
     "text": [
      "Valid Password\n"
     ]
    }
   ],
   "source": [
    "import re \n",
    "string = \"R@m@_f0rtu9e$\"\n",
    "flag = 0\n",
    "while True:   \n",
    "    if (len(string)<12): \n",
    "        flag = -1\n",
    "        break\n",
    "    elif not re.search(\"[0-9]\", string): \n",
    "        flag = -1\n",
    "        break\n",
    "    else: \n",
    "        flag = 0\n",
    "        print(\"Valid Password\") \n",
    "        break\n",
    "  \n",
    "# if flag ==-1: \n",
    "#     print(\"Not a Valid Password\") "
   ]
  },
  {
   "cell_type": "code",
   "execution_count": 26,
   "metadata": {},
   "outputs": [
    {
     "name": "stdout",
     "output_type": "stream",
     "text": [
      "123z4\n",
      "Not a Valid Password\n"
     ]
    },
    {
     "ename": "LookupError",
     "evalue": "'base64' is not a text encoding; use codecs.encode() to handle arbitrary codecs",
     "output_type": "error",
     "traceback": [
      "\u001b[1;31m---------------------------------------------------------------------------\u001b[0m",
      "\u001b[1;31mLookupError\u001b[0m                               Traceback (most recent call last)",
      "\u001b[1;32m<ipython-input-26-d9e243f194d3>\u001b[0m in \u001b[0;36m<module>\u001b[1;34m\u001b[0m\n\u001b[0;32m     19\u001b[0m     \u001b[0mprint\u001b[0m\u001b[1;33m(\u001b[0m\u001b[1;34m\"Not a Valid Password\"\u001b[0m\u001b[1;33m)\u001b[0m\u001b[1;33m\u001b[0m\u001b[1;33m\u001b[0m\u001b[0m\n\u001b[0;32m     20\u001b[0m \u001b[1;33m\u001b[0m\u001b[0m\n\u001b[1;32m---> 21\u001b[1;33m \u001b[0ms1\u001b[0m\u001b[1;33m=\u001b[0m\u001b[0mstring\u001b[0m\u001b[1;33m.\u001b[0m\u001b[0mencode\u001b[0m\u001b[1;33m(\u001b[0m\u001b[1;34m'base64'\u001b[0m\u001b[1;33m)\u001b[0m\u001b[1;33m\u001b[0m\u001b[1;33m\u001b[0m\u001b[0m\n\u001b[0m\u001b[0;32m     22\u001b[0m \u001b[0mprint\u001b[0m\u001b[1;33m(\u001b[0m\u001b[0ms1\u001b[0m\u001b[1;33m)\u001b[0m\u001b[1;33m\u001b[0m\u001b[1;33m\u001b[0m\u001b[0m\n\u001b[0;32m     23\u001b[0m \u001b[1;31m# 'eW91ciBzdHJpbmc=\\n'\u001b[0m\u001b[1;33m\u001b[0m\u001b[1;33m\u001b[0m\u001b[1;33m\u001b[0m\u001b[0m\n",
      "\u001b[1;31mLookupError\u001b[0m: 'base64' is not a text encoding; use codecs.encode() to handle arbitrary codecs"
     ]
    }
   ],
   "source": [
    "string = str(input()) \n",
    "\n",
    "import re \n",
    "# string = \"123#\"\n",
    "flag = 0\n",
    "while True:   \n",
    "    if (len(string)<12): \n",
    "        flag = -1\n",
    "        break\n",
    "    elif not re.search(\"[0-9]\", string): \n",
    "        flag = -1\n",
    "        break\n",
    "    else: \n",
    "        flag = 0\n",
    "        print(\"Valid Password\") \n",
    "        break\n",
    "        \n",
    "if flag ==-1: \n",
    "    print(\"Not a Valid Password\")\n",
    "    \n",
    "s1=string.encode('base64')\n",
    "print(s1)\n",
    "# 'eW91ciBzdHJpbmc=\\n'"
   ]
  },
  {
   "cell_type": "code",
   "execution_count": 28,
   "metadata": {},
   "outputs": [
    {
     "ename": "SyntaxError",
     "evalue": "invalid syntax (<ipython-input-28-6c2c4a8bed53>, line 1)",
     "output_type": "error",
     "traceback": [
      "\u001b[1;36m  File \u001b[1;32m\"<ipython-input-28-6c2c4a8bed53>\"\u001b[1;36m, line \u001b[1;32m1\u001b[0m\n\u001b[1;33m    1we23d@\u001b[0m\n\u001b[1;37m         ^\u001b[0m\n\u001b[1;31mSyntaxError\u001b[0m\u001b[1;31m:\u001b[0m invalid syntax\n"
     ]
    }
   ],
   "source": [
    "\n",
    "\n",
    "1we23d@\n"
   ]
  },
  {
   "cell_type": "code",
   "execution_count": 21,
   "metadata": {},
   "outputs": [],
   "source": [
    "from Crypto.Cipher import AES\n",
    "\n",
    "import base64\n",
    "\n",
    "import os\n",
    "def encryption(privateInfo):\n",
    "\n",
    "\tBLOCK_SIZE = 16\n",
    "\n",
    "\tPADDING = '{'\n",
    "\n",
    "\tpad = lambda s: s + (BLOCK_SIZE - len(s) % BLOCK_SIZE) * PADDING\n",
    "\n",
    "\tEncodeAES = lambda c, s: base64.b64encode(c.encrypt(pad(s)))\n",
    "\n",
    "\tsecret = os.urandom(BLOCK_SIZE)\n",
    "\tprint ('encryption key:',secret)\n",
    "\n",
    "\tcipher = AES.new(secret)\n",
    "\n",
    "\tencoded = EncodeAES(cipher, privateInfo)\n",
    "\tprint ('Encrypted string:', encoded)"
   ]
  },
  {
   "cell_type": "code",
   "execution_count": 20,
   "metadata": {},
   "outputs": [
    {
     "ename": "NameError",
     "evalue": "name 'e3a5' is not defined",
     "output_type": "error",
     "traceback": [
      "\u001b[1;31m---------------------------------------------------------------------------\u001b[0m",
      "\u001b[1;31mNameError\u001b[0m                                 Traceback (most recent call last)",
      "\u001b[1;32m<ipython-input-20-11a0511d4e40>\u001b[0m in \u001b[0;36m<module>\u001b[1;34m\u001b[0m\n\u001b[1;32m----> 1\u001b[1;33m \u001b[0me3a5\u001b[0m\u001b[1;33m\u001b[0m\u001b[1;33m\u001b[0m\u001b[0m\n\u001b[0m",
      "\u001b[1;31mNameError\u001b[0m: name 'e3a5' is not defined"
     ]
    }
   ],
   "source": [
    "e3a5\n"
   ]
  },
  {
   "cell_type": "code",
   "execution_count": 44,
   "metadata": {},
   "outputs": [
    {
     "name": "stdout",
     "output_type": "stream",
     "text": [
      "123456789123\n",
      "Valid Password\n"
     ]
    }
   ],
   "source": [
    "string = str(input()) \n",
    "\n",
    "import re \n",
    "# string = \"123#\"\n",
    "flag = 0\n",
    "while True:   \n",
    "    if (len(string)<12): \n",
    "        flag = -1\n",
    "        break\n",
    "    elif not re.search(\"[0-9]\", string): \n",
    "        flag = -1\n",
    "        break\n",
    "    else: \n",
    "        flag = 0\n",
    "        print(\"Valid Password\") \n",
    "        break\n",
    "        \n",
    "if flag ==-1: \n",
    "    print(\"Not a Valid Password\")\n",
    "    \n",
    "# def encrypt_password(string):\n",
    "#     return pwd_context.encrypt(string)\n",
    "# print(string)\n",
    "\n",
    "\n",
    "# def check_encrypted_password(string, hashed):\n",
    "#     return pwd_context.dec(string, hashed)\n",
    "import hashlib, binascii, os\n",
    "def hash_password(string):\n",
    "    \"\"\"Hash a password for storing.\"\"\"\n",
    "    salt = hashlib.sha256(os.urandom(60)).hexdigest().encode('ascii')\n",
    "    pwdhash = hashlib.pbkdf2_hmac('sha512', password.encode('utf-8'), \n",
    "                                salt, 100000)\n",
    "    pwdhash = binascii.hexlify(pwdhash)\n",
    "    return ((salt + pwdhash).decode('ascii'))"
   ]
  },
  {
   "cell_type": "markdown",
   "metadata": {},
   "source": [
    "import hashlib, binascii, os\n",
    "\n",
    "def hash_password(password):\n",
    "    \"\"\"Hash a password for storing.\"\"\"\n",
    "    salt = hashlib.sha256(os.urandom(60)).hexdigest().encode('ascii')\n",
    "    pwdhash = hashlib.pbkdf2_hmac('sha512', password.encode('utf-8'), \n",
    "                                salt, 100000)\n",
    "    pwdhash = binascii.hexlify(pwdhash)\n",
    "    return (salt + pwdhash).decode('ascii')\n",
    "\n",
    "def verify_password(stored_password, provided_password):\n",
    "    \"\"\"Verify a stored password against one provided by user\"\"\"\n",
    "    salt = stored_password[:64]\n",
    "    stored_password = stored_password[64:]\n",
    "    pwdhash = hashlib.pbkdf2_hmac('sha512', \n",
    "                                  provided_password.encode('utf-8'), \n",
    "                                  salt.encode('ascii'), \n",
    "                                  100000)\n",
    "    pwdhash = binascii.hexlify(pwdhash).decode('ascii')\n",
    "    return pwdhash == stored_password"
   ]
  },
  {
   "cell_type": "code",
   "execution_count": 45,
   "metadata": {},
   "outputs": [
    {
     "name": "stdout",
     "output_type": "stream",
     "text": [
      "\n",
      "['c', 'd', 'e']\n",
      "\n"
     ]
    }
   ],
   "source": [
    "def caesar_encrypt(realText, step):\n",
    "\toutText = []\n",
    "\tcryptText = []\n",
    "\t\n",
    "\tuppercase = ['A', 'B', 'C', 'D', 'E', 'F', 'G', 'H', 'I', 'J', 'K', 'L', 'M', 'N', 'O', 'P', 'Q', 'R', 'S', 'T', 'U', 'V', 'W', 'X', 'Y', 'Z']\n",
    "\tlowercase = ['a', 'b', 'c', 'd', 'e', 'f', 'g', 'h', 'i', 'j', 'k', 'l', 'm', 'n', 'o', 'p', 'q', 'r', 's', 't', 'u', 'v', 'w', 'x', 'y', 'z']\n",
    "\n",
    "\tfor eachLetter in realText:\n",
    "\t\tif eachLetter in uppercase:\n",
    "\t\t\tindex = uppercase.index(eachLetter)\n",
    "\t\t\tcrypting = (index + step) % 26\n",
    "\t\t\tcryptText.append(crypting)\n",
    "\t\t\tnewLetter = uppercase[crypting]\n",
    "\t\t\toutText.append(newLetter)\n",
    "\t\telif eachLetter in lowercase:\n",
    "\t\t\tindex = lowercase.index(eachLetter)\n",
    "\t\t\tcrypting = (index + step) % 26\n",
    "\t\t\tcryptText.append(crypting)\n",
    "\t\t\tnewLetter = lowercase[crypting]\n",
    "\t\t\toutText.append(newLetter)\n",
    "\treturn outText\n",
    "\n",
    "code = caesar_encrypt('abc', 2)\n",
    "print()\n",
    "print(code)\n",
    "print()\n"
   ]
  },
  {
   "cell_type": "code",
   "execution_count": 46,
   "metadata": {},
   "outputs": [],
   "source": [
    "def encrypt(id):#let say the id is 100\n",
    "   #do something\n",
    "   return encrypted_id # 6-digit let say 985634"
   ]
  },
  {
   "cell_type": "code",
   "execution_count": 47,
   "metadata": {},
   "outputs": [
    {
     "name": "stdout",
     "output_type": "stream",
     "text": [
      "123456789123\n",
      "Valid Password\n"
     ]
    }
   ],
   "source": [
    "string = str(input()) \n",
    "\n",
    "import re \n",
    "# string = \"123#\"\n",
    "flag = 0\n",
    "while True:   \n",
    "    if (len(string)<12): \n",
    "        flag = -1\n",
    "        break\n",
    "    elif not re.search(\"[0-9]\", string): \n",
    "        flag = -1\n",
    "        break\n",
    "    else: \n",
    "        flag = 0\n",
    "        print(\"Valid Password\") \n",
    "        break\n",
    "        \n",
    "if flag ==-1: \n",
    "    print(\"Not a Valid Password\")\n",
    "    \n",
    "def encrypt(string):#let say the id is 100\n",
    "   #do something\n",
    "   return encrypted_string # 6-digit let say 985634    "
   ]
  },
  {
   "cell_type": "code",
   "execution_count": 53,
   "metadata": {},
   "outputs": [
    {
     "name": "stdout",
     "output_type": "stream",
     "text": [
      "123456789123\n"
     ]
    }
   ],
   "source": [
    "from Crypto.Cipher import AES\n",
    "import base64\n",
    "\n",
    "MASTER_KEY=\"Some-long-base-key-to-use-as-encryption-key\"\n",
    "\n",
    "def encrypt_val(string):\n",
    "    enc_secret = AES.new(MASTER_KEY[:32])\n",
    "    tag_string = (str(clear_text) +\n",
    "                  (AES.block_size -\n",
    "                   len(str(clear_text)) % AES.block_size) * \"\\0\")\n",
    "    string = base64.b64encode(enc_secret.encrypt(tag_string))\n",
    "\n",
    "    return string\n",
    "print(string)"
   ]
  },
  {
   "cell_type": "code",
   "execution_count": 59,
   "metadata": {},
   "outputs": [],
   "source": [
    "from Crypto.Cipher import AES\n",
    "import base64\n",
    "\n",
    "def encrypt(string):#let say the id is 100\n",
    "   #do something\n",
    "   return encrypted_string\n",
    "# 6-digit let say 985634\n",
    "# print(string)"
   ]
  },
  {
   "cell_type": "code",
   "execution_count": 62,
   "metadata": {},
   "outputs": [
    {
     "name": "stdout",
     "output_type": "stream",
     "text": [
      "123456789123\n",
      "Valid Password\n"
     ]
    }
   ],
   "source": [
    "string = str(input()) \n",
    "\n",
    "import re \n",
    "# string = \"123#\"\n",
    "flag = 0\n",
    "while True:   \n",
    "    if (len(string)<12): \n",
    "        flag = -1\n",
    "        break\n",
    "    elif not re.search(\"[0-9]\", string): \n",
    "        flag = -1\n",
    "        break\n",
    "    else: \n",
    "        flag = 0\n",
    "        print(\"Valid Password\") \n",
    "        break\n",
    "        \n",
    "if flag ==-1: \n",
    "    print(\"Not a Valid Password\")\n",
    "\n",
    "from Crypto.Cipher import AES\n",
    "import base64\n",
    "\n",
    "# MASTER_KEY=\"Some-long-base-key-to-use-as-encryption-key\"\n",
    "\n",
    "def encrypt_val(clear_text):\n",
    "    enc_secret = AES.new(MASTER_KEY[:32])\n",
    "    tag_string = (str(clear_text) +\n",
    "                  (AES.block_size -\n",
    "                   len(str(clear_text)) % AES.block_size) * \"\\0\")\n",
    "    cipher_text = base64.b64encode(enc_secret.encrypt(tag_string))\n",
    "\n",
    "    return cipher_text"
   ]
  },
  {
   "cell_type": "code",
   "execution_count": 66,
   "metadata": {},
   "outputs": [
    {
     "name": "stdout",
     "output_type": "stream",
     "text": [
      "123456789123\n",
      "Valid Password\n"
     ]
    },
    {
     "ename": "ModuleNotFoundError",
     "evalue": "No module named 'hashids'",
     "output_type": "error",
     "traceback": [
      "\u001b[1;31m---------------------------------------------------------------------------\u001b[0m",
      "\u001b[1;31mModuleNotFoundError\u001b[0m                       Traceback (most recent call last)",
      "\u001b[1;32m<ipython-input-66-1bfbfe3543b0>\u001b[0m in \u001b[0;36m<module>\u001b[1;34m\u001b[0m\n\u001b[0;32m     19\u001b[0m     \u001b[0mprint\u001b[0m\u001b[1;33m(\u001b[0m\u001b[1;34m\"Not a Valid Password\"\u001b[0m\u001b[1;33m)\u001b[0m\u001b[1;33m\u001b[0m\u001b[1;33m\u001b[0m\u001b[0m\n\u001b[0;32m     20\u001b[0m \u001b[1;33m\u001b[0m\u001b[0m\n\u001b[1;32m---> 21\u001b[1;33m \u001b[1;32mfrom\u001b[0m \u001b[0mhashids\u001b[0m \u001b[1;32mimport\u001b[0m \u001b[0mHashids\u001b[0m\u001b[1;33m\u001b[0m\u001b[1;33m\u001b[0m\u001b[0m\n\u001b[0m\u001b[0;32m     22\u001b[0m \u001b[0mhashids\u001b[0m \u001b[1;33m=\u001b[0m \u001b[0mHashids\u001b[0m\u001b[1;33m(\u001b[0m\u001b[1;33m)\u001b[0m\u001b[1;33m\u001b[0m\u001b[1;33m\u001b[0m\u001b[0m\n\u001b[0;32m     23\u001b[0m \u001b[1;33m\u001b[0m\u001b[0m\n",
      "\u001b[1;31mModuleNotFoundError\u001b[0m: No module named 'hashids'"
     ]
    }
   ],
   "source": [
    "string = str(input()) \n",
    "\n",
    "import re \n",
    "# string = \"123#\"\n",
    "flag = 0\n",
    "while True:   \n",
    "    if (len(string)<12): \n",
    "        flag = -1\n",
    "        break\n",
    "    elif not re.search(\"[0-9]\", string): \n",
    "        flag = -1\n",
    "        break\n",
    "    else: \n",
    "        flag = 0\n",
    "        print(\"Valid Password\") \n",
    "        break\n",
    "        \n",
    "if flag ==-1: \n",
    "    print(\"Not a Valid Password\")\n",
    "    \n",
    "from hashids import Hashids\n",
    "hashids = Hashids()\n",
    "\n",
    "salt=\"this is my salt\"\n",
    "hashids = Hashids(salt=\"this is my salt\")\n",
    "hashed = hashids.encode(id) # to encode\n",
    "id = hashids.decode(hashed) # to decode"
   ]
  },
  {
   "cell_type": "code",
   "execution_count": 68,
   "metadata": {},
   "outputs": [
    {
     "ename": "NameError",
     "evalue": "name 'hashids' is not defined",
     "output_type": "error",
     "traceback": [
      "\u001b[1;31m---------------------------------------------------------------------------\u001b[0m",
      "\u001b[1;31mNameError\u001b[0m                                 Traceback (most recent call last)",
      "\u001b[1;32m<ipython-input-68-af29d78466ff>\u001b[0m in \u001b[0;36m<module>\u001b[1;34m\u001b[0m\n\u001b[1;32m----> 1\u001b[1;33m \u001b[0mhashid\u001b[0m \u001b[1;33m=\u001b[0m \u001b[0mhashids\u001b[0m\u001b[1;33m.\u001b[0m\u001b[0mencode\u001b[0m\u001b[1;33m(\u001b[0m\u001b[1;36m123\u001b[0m\u001b[1;33m)\u001b[0m \u001b[1;31m# 'Mj3'\u001b[0m\u001b[1;33m\u001b[0m\u001b[1;33m\u001b[0m\u001b[0m\n\u001b[0m",
      "\u001b[1;31mNameError\u001b[0m: name 'hashids' is not defined"
     ]
    }
   ],
   "source": [
    "hashid = hashids.encode(123) # 'Mj3'"
   ]
  },
  {
   "cell_type": "code",
   "execution_count": 69,
   "metadata": {},
   "outputs": [
    {
     "ename": "ModuleNotFoundError",
     "evalue": "No module named 'hashids'",
     "output_type": "error",
     "traceback": [
      "\u001b[1;31m---------------------------------------------------------------------------\u001b[0m",
      "\u001b[1;31mModuleNotFoundError\u001b[0m                       Traceback (most recent call last)",
      "\u001b[1;32m<ipython-input-69-f15bfb9ff3ca>\u001b[0m in \u001b[0;36m<module>\u001b[1;34m\u001b[0m\n\u001b[1;32m----> 1\u001b[1;33m \u001b[1;32mfrom\u001b[0m \u001b[0mhashids\u001b[0m \u001b[1;32mimport\u001b[0m \u001b[0mHashids\u001b[0m\u001b[1;33m\u001b[0m\u001b[1;33m\u001b[0m\u001b[0m\n\u001b[0m\u001b[0;32m      2\u001b[0m \u001b[0mhashids\u001b[0m \u001b[1;33m=\u001b[0m \u001b[0mHashids\u001b[0m\u001b[1;33m(\u001b[0m\u001b[1;33m)\u001b[0m\u001b[1;33m\u001b[0m\u001b[1;33m\u001b[0m\u001b[0m\n",
      "\u001b[1;31mModuleNotFoundError\u001b[0m: No module named 'hashids'"
     ]
    }
   ],
   "source": [
    "from hashids import Hashids\n",
    "hashids = Hashids()"
   ]
  },
  {
   "cell_type": "code",
   "execution_count": 71,
   "metadata": {},
   "outputs": [
    {
     "ename": "ModuleNotFoundError",
     "evalue": "No module named 'hashids'",
     "output_type": "error",
     "traceback": [
      "\u001b[1;31m---------------------------------------------------------------------------\u001b[0m",
      "\u001b[1;31mModuleNotFoundError\u001b[0m                       Traceback (most recent call last)",
      "\u001b[1;32m<ipython-input-71-56bccdcca986>\u001b[0m in \u001b[0;36m<module>\u001b[1;34m\u001b[0m\n\u001b[1;32m----> 1\u001b[1;33m \u001b[1;32mfrom\u001b[0m \u001b[0mhashids\u001b[0m \u001b[1;32mimport\u001b[0m \u001b[0mHashids\u001b[0m\u001b[1;33m\u001b[0m\u001b[1;33m\u001b[0m\u001b[0m\n\u001b[0m\u001b[0;32m      2\u001b[0m \u001b[0mhashids\u001b[0m \u001b[1;33m=\u001b[0m \u001b[0mHashids\u001b[0m\u001b[1;33m(\u001b[0m\u001b[1;33m)\u001b[0m\u001b[1;33m\u001b[0m\u001b[1;33m\u001b[0m\u001b[0m\n\u001b[0;32m      3\u001b[0m \u001b[1;33m\u001b[0m\u001b[0m\n\u001b[0;32m      4\u001b[0m \u001b[0mhashid\u001b[0m \u001b[1;33m=\u001b[0m \u001b[0mhashids\u001b[0m\u001b[1;33m.\u001b[0m\u001b[0mencode\u001b[0m\u001b[1;33m(\u001b[0m\u001b[1;36m123\u001b[0m\u001b[1;33m)\u001b[0m\u001b[1;33m\u001b[0m\u001b[1;33m\u001b[0m\u001b[0m\n",
      "\u001b[1;31mModuleNotFoundError\u001b[0m: No module named 'hashids'"
     ]
    }
   ],
   "source": [
    "from hashids import Hashids\n",
    "hashids = Hashids()\n",
    "\n",
    "hashid = hashids.encode(123)"
   ]
  },
  {
   "cell_type": "code",
   "execution_count": 72,
   "metadata": {},
   "outputs": [
    {
     "ename": "ModuleNotFoundError",
     "evalue": "No module named 'hashids'",
     "output_type": "error",
     "traceback": [
      "\u001b[1;31m---------------------------------------------------------------------------\u001b[0m",
      "\u001b[1;31mModuleNotFoundError\u001b[0m                       Traceback (most recent call last)",
      "\u001b[1;32m<ipython-input-72-56bccdcca986>\u001b[0m in \u001b[0;36m<module>\u001b[1;34m\u001b[0m\n\u001b[1;32m----> 1\u001b[1;33m \u001b[1;32mfrom\u001b[0m \u001b[0mhashids\u001b[0m \u001b[1;32mimport\u001b[0m \u001b[0mHashids\u001b[0m\u001b[1;33m\u001b[0m\u001b[1;33m\u001b[0m\u001b[0m\n\u001b[0m\u001b[0;32m      2\u001b[0m \u001b[0mhashids\u001b[0m \u001b[1;33m=\u001b[0m \u001b[0mHashids\u001b[0m\u001b[1;33m(\u001b[0m\u001b[1;33m)\u001b[0m\u001b[1;33m\u001b[0m\u001b[1;33m\u001b[0m\u001b[0m\n\u001b[0;32m      3\u001b[0m \u001b[1;33m\u001b[0m\u001b[0m\n\u001b[0;32m      4\u001b[0m \u001b[0mhashid\u001b[0m \u001b[1;33m=\u001b[0m \u001b[0mhashids\u001b[0m\u001b[1;33m.\u001b[0m\u001b[0mencode\u001b[0m\u001b[1;33m(\u001b[0m\u001b[1;36m123\u001b[0m\u001b[1;33m)\u001b[0m\u001b[1;33m\u001b[0m\u001b[1;33m\u001b[0m\u001b[0m\n",
      "\u001b[1;31mModuleNotFoundError\u001b[0m: No module named 'hashids'"
     ]
    }
   ],
   "source": [
    "from hashids import Hashids\n",
    "hashids = Hashids()\n",
    "\n",
    "hashid = hashids.encode(123)"
   ]
  },
  {
   "cell_type": "code",
   "execution_count": null,
   "metadata": {},
   "outputs": [],
   "source": []
  }
 ],
 "metadata": {
  "kernelspec": {
   "display_name": "Python 3",
   "language": "python",
   "name": "python3"
  },
  "language_info": {
   "codemirror_mode": {
    "name": "ipython",
    "version": 3
   },
   "file_extension": ".py",
   "mimetype": "text/x-python",
   "name": "python",
   "nbconvert_exporter": "python",
   "pygments_lexer": "ipython3",
   "version": "3.7.4"
  }
 },
 "nbformat": 4,
 "nbformat_minor": 2
}
